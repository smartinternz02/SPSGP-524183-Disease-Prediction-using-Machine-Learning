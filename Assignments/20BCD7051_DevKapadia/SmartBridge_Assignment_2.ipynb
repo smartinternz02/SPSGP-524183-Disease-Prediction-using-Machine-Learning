{
  "nbformat": 4,
  "nbformat_minor": 0,
  "metadata": {
    "colab": {
      "provenance": []
    },
    "kernelspec": {
      "name": "python3",
      "display_name": "Python 3"
    },
    "language_info": {
      "name": "python"
    }
  },
  "cells": [
    {
      "cell_type": "markdown",
      "source": [
        "Titanic Ship Case Study\n",
        "Problem Description: On April 15, 1912, during her maiden voyage, the Titanic sank after colliding\n",
        "with an iceberg, killing 1502 out of 2224 passengers and crew. Translated 32% survival rate.\n",
        " One of the reasons that the shipwreck led to such loss of life was that there were not\n",
        "enough lifeboats for the passengers and crew.\n",
        " Although there was some element of luck involved in surviving the sinking, some groups of\n",
        "\n",
        "people were more likely to survive than others, such as women, children, and the upper-\n",
        "class.\n",
        "\n",
        "The problem associated with the Titanic dataset is to predict whether a passenger survived the\n",
        "disaster or not. The dataset contains various features such as passenger class, age, gender,\n",
        "cabin, fare, and whether the passenger had any siblings or spouses on board. These features can\n",
        "be used to build a predictive model to determine the likelihood of a passenger surviving the\n",
        "disaster. The dataset offers opportunities for feature engineering, data visualization, and model\n",
        "selection, making it a valuable resource for developing and testing data analysis and machine\n",
        "learning skills."
      ],
      "metadata": {
        "id": "jPy8hyEDDgm5"
      }
    },
    {
      "cell_type": "code",
      "execution_count": 1,
      "metadata": {
        "id": "4XvQ7DSu5CyO"
      },
      "outputs": [],
      "source": [
        "import numpy as np\n",
        "import pandas as pd\n",
        "import matplotlib.pyplot as plt\n",
        "import seaborn as sns"
      ]
    },
    {
      "cell_type": "markdown",
      "source": [
        "Load the dataset."
      ],
      "metadata": {
        "id": "At9rzem5Divy"
      }
    },
    {
      "cell_type": "code",
      "source": [
        "df = pd.read_csv('titanic.csv')\n",
        "df.head()"
      ],
      "metadata": {
        "colab": {
          "base_uri": "https://localhost:8080/",
          "height": 270
        },
        "id": "Gp5bU7HJ5oSj",
        "outputId": "d772d55a-bc68-40ea-d4fb-b4c7e4539465"
      },
      "execution_count": 2,
      "outputs": [
        {
          "output_type": "execute_result",
          "data": {
            "text/plain": [
              "   survived  pclass     sex   age  sibsp  parch     fare embarked  class  \\\n",
              "0         0       3    male  22.0      1      0   7.2500        S  Third   \n",
              "1         1       1  female  38.0      1      0  71.2833        C  First   \n",
              "2         1       3  female  26.0      0      0   7.9250        S  Third   \n",
              "3         1       1  female  35.0      1      0  53.1000        S  First   \n",
              "4         0       3    male  35.0      0      0   8.0500        S  Third   \n",
              "\n",
              "     who  adult_male deck  embark_town alive  alone  \n",
              "0    man        True  NaN  Southampton    no  False  \n",
              "1  woman       False    C    Cherbourg   yes  False  \n",
              "2  woman       False  NaN  Southampton   yes   True  \n",
              "3  woman       False    C  Southampton   yes  False  \n",
              "4    man        True  NaN  Southampton    no   True  "
            ],
            "text/html": [
              "\n",
              "  <div id=\"df-0d5371d3-17f6-4b10-993f-fabb5c568c83\">\n",
              "    <div class=\"colab-df-container\">\n",
              "      <div>\n",
              "<style scoped>\n",
              "    .dataframe tbody tr th:only-of-type {\n",
              "        vertical-align: middle;\n",
              "    }\n",
              "\n",
              "    .dataframe tbody tr th {\n",
              "        vertical-align: top;\n",
              "    }\n",
              "\n",
              "    .dataframe thead th {\n",
              "        text-align: right;\n",
              "    }\n",
              "</style>\n",
              "<table border=\"1\" class=\"dataframe\">\n",
              "  <thead>\n",
              "    <tr style=\"text-align: right;\">\n",
              "      <th></th>\n",
              "      <th>survived</th>\n",
              "      <th>pclass</th>\n",
              "      <th>sex</th>\n",
              "      <th>age</th>\n",
              "      <th>sibsp</th>\n",
              "      <th>parch</th>\n",
              "      <th>fare</th>\n",
              "      <th>embarked</th>\n",
              "      <th>class</th>\n",
              "      <th>who</th>\n",
              "      <th>adult_male</th>\n",
              "      <th>deck</th>\n",
              "      <th>embark_town</th>\n",
              "      <th>alive</th>\n",
              "      <th>alone</th>\n",
              "    </tr>\n",
              "  </thead>\n",
              "  <tbody>\n",
              "    <tr>\n",
              "      <th>0</th>\n",
              "      <td>0</td>\n",
              "      <td>3</td>\n",
              "      <td>male</td>\n",
              "      <td>22.0</td>\n",
              "      <td>1</td>\n",
              "      <td>0</td>\n",
              "      <td>7.2500</td>\n",
              "      <td>S</td>\n",
              "      <td>Third</td>\n",
              "      <td>man</td>\n",
              "      <td>True</td>\n",
              "      <td>NaN</td>\n",
              "      <td>Southampton</td>\n",
              "      <td>no</td>\n",
              "      <td>False</td>\n",
              "    </tr>\n",
              "    <tr>\n",
              "      <th>1</th>\n",
              "      <td>1</td>\n",
              "      <td>1</td>\n",
              "      <td>female</td>\n",
              "      <td>38.0</td>\n",
              "      <td>1</td>\n",
              "      <td>0</td>\n",
              "      <td>71.2833</td>\n",
              "      <td>C</td>\n",
              "      <td>First</td>\n",
              "      <td>woman</td>\n",
              "      <td>False</td>\n",
              "      <td>C</td>\n",
              "      <td>Cherbourg</td>\n",
              "      <td>yes</td>\n",
              "      <td>False</td>\n",
              "    </tr>\n",
              "    <tr>\n",
              "      <th>2</th>\n",
              "      <td>1</td>\n",
              "      <td>3</td>\n",
              "      <td>female</td>\n",
              "      <td>26.0</td>\n",
              "      <td>0</td>\n",
              "      <td>0</td>\n",
              "      <td>7.9250</td>\n",
              "      <td>S</td>\n",
              "      <td>Third</td>\n",
              "      <td>woman</td>\n",
              "      <td>False</td>\n",
              "      <td>NaN</td>\n",
              "      <td>Southampton</td>\n",
              "      <td>yes</td>\n",
              "      <td>True</td>\n",
              "    </tr>\n",
              "    <tr>\n",
              "      <th>3</th>\n",
              "      <td>1</td>\n",
              "      <td>1</td>\n",
              "      <td>female</td>\n",
              "      <td>35.0</td>\n",
              "      <td>1</td>\n",
              "      <td>0</td>\n",
              "      <td>53.1000</td>\n",
              "      <td>S</td>\n",
              "      <td>First</td>\n",
              "      <td>woman</td>\n",
              "      <td>False</td>\n",
              "      <td>C</td>\n",
              "      <td>Southampton</td>\n",
              "      <td>yes</td>\n",
              "      <td>False</td>\n",
              "    </tr>\n",
              "    <tr>\n",
              "      <th>4</th>\n",
              "      <td>0</td>\n",
              "      <td>3</td>\n",
              "      <td>male</td>\n",
              "      <td>35.0</td>\n",
              "      <td>0</td>\n",
              "      <td>0</td>\n",
              "      <td>8.0500</td>\n",
              "      <td>S</td>\n",
              "      <td>Third</td>\n",
              "      <td>man</td>\n",
              "      <td>True</td>\n",
              "      <td>NaN</td>\n",
              "      <td>Southampton</td>\n",
              "      <td>no</td>\n",
              "      <td>True</td>\n",
              "    </tr>\n",
              "  </tbody>\n",
              "</table>\n",
              "</div>\n",
              "      <button class=\"colab-df-convert\" onclick=\"convertToInteractive('df-0d5371d3-17f6-4b10-993f-fabb5c568c83')\"\n",
              "              title=\"Convert this dataframe to an interactive table.\"\n",
              "              style=\"display:none;\">\n",
              "        \n",
              "  <svg xmlns=\"http://www.w3.org/2000/svg\" height=\"24px\"viewBox=\"0 0 24 24\"\n",
              "       width=\"24px\">\n",
              "    <path d=\"M0 0h24v24H0V0z\" fill=\"none\"/>\n",
              "    <path d=\"M18.56 5.44l.94 2.06.94-2.06 2.06-.94-2.06-.94-.94-2.06-.94 2.06-2.06.94zm-11 1L8.5 8.5l.94-2.06 2.06-.94-2.06-.94L8.5 2.5l-.94 2.06-2.06.94zm10 10l.94 2.06.94-2.06 2.06-.94-2.06-.94-.94-2.06-.94 2.06-2.06.94z\"/><path d=\"M17.41 7.96l-1.37-1.37c-.4-.4-.92-.59-1.43-.59-.52 0-1.04.2-1.43.59L10.3 9.45l-7.72 7.72c-.78.78-.78 2.05 0 2.83L4 21.41c.39.39.9.59 1.41.59.51 0 1.02-.2 1.41-.59l7.78-7.78 2.81-2.81c.8-.78.8-2.07 0-2.86zM5.41 20L4 18.59l7.72-7.72 1.47 1.35L5.41 20z\"/>\n",
              "  </svg>\n",
              "      </button>\n",
              "      \n",
              "  <style>\n",
              "    .colab-df-container {\n",
              "      display:flex;\n",
              "      flex-wrap:wrap;\n",
              "      gap: 12px;\n",
              "    }\n",
              "\n",
              "    .colab-df-convert {\n",
              "      background-color: #E8F0FE;\n",
              "      border: none;\n",
              "      border-radius: 50%;\n",
              "      cursor: pointer;\n",
              "      display: none;\n",
              "      fill: #1967D2;\n",
              "      height: 32px;\n",
              "      padding: 0 0 0 0;\n",
              "      width: 32px;\n",
              "    }\n",
              "\n",
              "    .colab-df-convert:hover {\n",
              "      background-color: #E2EBFA;\n",
              "      box-shadow: 0px 1px 2px rgba(60, 64, 67, 0.3), 0px 1px 3px 1px rgba(60, 64, 67, 0.15);\n",
              "      fill: #174EA6;\n",
              "    }\n",
              "\n",
              "    [theme=dark] .colab-df-convert {\n",
              "      background-color: #3B4455;\n",
              "      fill: #D2E3FC;\n",
              "    }\n",
              "\n",
              "    [theme=dark] .colab-df-convert:hover {\n",
              "      background-color: #434B5C;\n",
              "      box-shadow: 0px 1px 3px 1px rgba(0, 0, 0, 0.15);\n",
              "      filter: drop-shadow(0px 1px 2px rgba(0, 0, 0, 0.3));\n",
              "      fill: #FFFFFF;\n",
              "    }\n",
              "  </style>\n",
              "\n",
              "      <script>\n",
              "        const buttonEl =\n",
              "          document.querySelector('#df-0d5371d3-17f6-4b10-993f-fabb5c568c83 button.colab-df-convert');\n",
              "        buttonEl.style.display =\n",
              "          google.colab.kernel.accessAllowed ? 'block' : 'none';\n",
              "\n",
              "        async function convertToInteractive(key) {\n",
              "          const element = document.querySelector('#df-0d5371d3-17f6-4b10-993f-fabb5c568c83');\n",
              "          const dataTable =\n",
              "            await google.colab.kernel.invokeFunction('convertToInteractive',\n",
              "                                                     [key], {});\n",
              "          if (!dataTable) return;\n",
              "\n",
              "          const docLinkHtml = 'Like what you see? Visit the ' +\n",
              "            '<a target=\"_blank\" href=https://colab.research.google.com/notebooks/data_table.ipynb>data table notebook</a>'\n",
              "            + ' to learn more about interactive tables.';\n",
              "          element.innerHTML = '';\n",
              "          dataTable['output_type'] = 'display_data';\n",
              "          await google.colab.output.renderOutput(dataTable, element);\n",
              "          const docLink = document.createElement('div');\n",
              "          docLink.innerHTML = docLinkHtml;\n",
              "          element.appendChild(docLink);\n",
              "        }\n",
              "      </script>\n",
              "    </div>\n",
              "  </div>\n",
              "  "
            ]
          },
          "metadata": {},
          "execution_count": 2
        }
      ]
    },
    {
      "cell_type": "code",
      "source": [
        "df.columns"
      ],
      "metadata": {
        "colab": {
          "base_uri": "https://localhost:8080/"
        },
        "id": "aljZhLEQ-P9B",
        "outputId": "ba47b52c-0250-4f0e-eee1-5959532c376e"
      },
      "execution_count": 3,
      "outputs": [
        {
          "output_type": "execute_result",
          "data": {
            "text/plain": [
              "Index(['survived', 'pclass', 'sex', 'age', 'sibsp', 'parch', 'fare',\n",
              "       'embarked', 'class', 'who', 'adult_male', 'deck', 'embark_town',\n",
              "       'alive', 'alone'],\n",
              "      dtype='object')"
            ]
          },
          "metadata": {},
          "execution_count": 3
        }
      ]
    },
    {
      "cell_type": "markdown",
      "source": [
        "Univariate Analysis"
      ],
      "metadata": {
        "id": "kJzEB49KDmvh"
      }
    },
    {
      "cell_type": "code",
      "source": [
        "age_data = df['age']\n",
        "\n",
        "\n",
        "mean_age = age_data.mean()\n",
        "median_age = age_data.median()\n",
        "mode_age = age_data.mode().values[0]\n",
        "\n",
        "\n",
        "std_dev_age = age_data.std()\n",
        "range_age = age_data.max() - age_data.min()\n",
        "iqr_age = age_data.quantile(0.75) - age_data.quantile(0.25)\n",
        "\n",
        "\n",
        "plt.figure(figsize=(8, 6))\n",
        "plt.hist(age_data.dropna(), bins=20, edgecolor='black')\n",
        "plt.xlabel('Age')\n",
        "plt.ylabel('Frequency')\n",
        "plt.title('Distribution of Age')\n",
        "plt.show()"
      ],
      "metadata": {
        "colab": {
          "base_uri": "https://localhost:8080/",
          "height": 564
        },
        "id": "rvrPU0u05r7g",
        "outputId": "70ee75ad-5473-4906-c92e-2efac5115dfa"
      },
      "execution_count": 4,
      "outputs": [
        {
          "output_type": "display_data",
          "data": {
            "text/plain": [
              "<Figure size 800x600 with 1 Axes>"
            ],
            "image/png": "[encoded data removed]"
          },
          "metadata": {}
        }
      ]
    },
    {
      "cell_type": "code",
      "source": [
        "plt.figure(figsize=(8, 6))\n",
        "plt.boxplot(age_data.dropna(), vert=False)\n",
        "plt.xlabel('Age')\n",
        "plt.title('Box Plot of Age')\n",
        "plt.show()\n",
        "\n",
        "# Print the results\n",
        "print(f\"Mean Age: {mean_age:.2f}\")\n",
        "print(f\"Median Age: {median_age:.2f}\")\n",
        "print(f\"Mode Age: {mode_age:.2f}\")\n",
        "print(f\"Standard Deviation: {std_dev_age:.2f}\")\n",
        "print(f\"Range: {range_age:.2f}\")\n",
        "print(f\"IQR: {iqr_age:.2f}\")"
      ],
      "metadata": {
        "colab": {
          "base_uri": "https://localhost:8080/",
          "height": 668
        },
        "id": "nPoE5xNA6OH7",
        "outputId": "5c3811bd-6346-4174-a401-58a48139c8d1"
      },
      "execution_count": 5,
      "outputs": [
        {
          "output_type": "display_data",
          "data": {
            "text/plain": [
              "<Figure size 800x600 with 1 Axes>"
            ],
            "image/png": "[encoded data removed]"
          },
          "metadata": {}
        },
        {
          "output_type": "stream",
          "name": "stdout",
          "text": [
            "Mean Age: 29.70\n",
            "Median Age: 28.00\n",
            "Mode Age: 24.00\n",
            "Standard Deviation: 14.53\n",
            "Range: 79.58\n",
            "IQR: 17.88\n"
          ]
        }
      ]
    },
    {
      "cell_type": "markdown",
      "source": [
        "Bi - Variate Analysis"
      ],
      "metadata": {
        "id": "0hp2rHWjDtd9"
      }
    },
    {
      "cell_type": "code",
      "source": [
        "from scipy.stats import ttest_ind\n",
        "# Bivariate analysis of 'Survived' and 'Age'\n",
        "survived_age_data = df[['survived', 'age']].dropna()\n",
        "\n",
        "\n",
        "mean_age_by_survived = survived_age_data.groupby('survived')['age'].mean()\n",
        "\n",
        "\n",
        "plt.figure(figsize=(8, 6))\n",
        "sns.boxplot(x='survived', y='age', data=survived_age_data)\n",
        "plt.xlabel('Survived')\n",
        "plt.ylabel('Age')\n",
        "plt.title('Age Distribution by Survival')\n",
        "plt.show()\n",
        "\n",
        "\n",
        "survived_ages = survived_age_data[survived_age_data['survived'] == 1]['age']\n",
        "not_survived_ages = survived_age_data[survived_age_data['survived'] == 0]['age']\n",
        "t_stat, p_value = ttest_ind(survived_ages, not_survived_ages)\n",
        "\n",
        "\n",
        "print(f\"Mean Age by Survival:\\n{mean_age_by_survived}\")\n",
        "print(f\"T-statistic: {t_stat:.2f}\")\n",
        "print(f\"P-value: {p_value:.4f}\")"
      ],
      "metadata": {
        "colab": {
          "base_uri": "https://localhost:8080/",
          "height": 685
        },
        "id": "TOqy967U6UR1",
        "outputId": "fe50bb44-da0e-48f1-fcb0-544bdf934fb3"
      },
      "execution_count": 6,
      "outputs": [
        {
          "output_type": "display_data",
          "data": {
            "text/plain": [
              "<Figure size 800x600 with 1 Axes>"
            ],
            "image/png": "[encoded data removed]"
          },
          "metadata": {}
        },
        {
          "output_type": "stream",
          "name": "stdout",
          "text": [
            "Mean Age by Survival:\n",
            "survived\n",
            "0    30.626179\n",
            "1    28.343690\n",
            "Name: age, dtype: float64\n",
            "T-statistic: -2.07\n",
            "P-value: 0.0391\n"
          ]
        }
      ]
    },
    {
      "cell_type": "markdown",
      "source": [
        "Multi - Variate Analysis"
      ],
      "metadata": {
        "id": "2ZY8inlcDz6B"
      }
    },
    {
      "cell_type": "code",
      "source": [
        "from scipy.stats import f_oneway\n",
        "# Multivariate analysis of 'Survived', 'Pclass', and 'Age'\n",
        "multivariate_data = df[['survived', 'pclass', 'age']].dropna()\n",
        "\n",
        "\n",
        "mean_age_by_survived_pclass = multivariate_data.groupby(['survived', 'pclass'])['age'].mean()\n",
        "\n",
        "\n",
        "plt.figure(figsize=(10, 6))\n",
        "sns.boxplot(x='pclass', y='age', hue='survived', data=multivariate_data)\n",
        "plt.xlabel('Passenger Class')\n",
        "plt.ylabel('Age')\n",
        "plt.title('Age Distribution by Survival and Passenger Class')\n",
        "plt.legend(title='Survived')\n",
        "plt.show()\n",
        "\n",
        "\n",
        "group1 = multivariate_data[multivariate_data['survived'] == 0]['age']\n",
        "group2 = multivariate_data[multivariate_data['survived'] == 1]['age']\n",
        "f_stat, p_value = f_oneway(group1, group2)\n",
        "\n",
        "\n",
        "print(f\"Mean Age by Survival and Passenger Class:\\n{mean_age_by_survived_pclass}\")\n",
        "print(f\"F-statistic: {f_stat:.2f}\")\n",
        "print(f\"P-value: {p_value:.4f}\")"
      ],
      "metadata": {
        "colab": {
          "base_uri": "https://localhost:8080/",
          "height": 755
        },
        "id": "wK-ng5UA6l9C",
        "outputId": "17650545-8d0a-48a2-9873-b8ee90ecf95e"
      },
      "execution_count": 7,
      "outputs": [
        {
          "output_type": "display_data",
          "data": {
            "text/plain": [
              "<Figure size 1000x600 with 1 Axes>"
            ],
            "image/png": "[encoded data removed]"
          },
          "metadata": {}
        },
        {
          "output_type": "stream",
          "name": "stdout",
          "text": [
            "Mean Age by Survival and Passenger Class:\n",
            "survived  pclass\n",
            "0         1         43.695312\n",
            "          2         33.544444\n",
            "          3         26.555556\n",
            "1         1         35.368197\n",
            "          2         25.901566\n",
            "          3         20.646118\n",
            "Name: age, dtype: float64\n",
            "F-statistic: 4.27\n",
            "P-value: 0.0391\n"
          ]
        }
      ]
    },
    {
      "cell_type": "markdown",
      "source": [
        "Perform descriptive statistics on the dataset."
      ],
      "metadata": {
        "id": "bw9F6IjyD4y4"
      }
    },
    {
      "cell_type": "code",
      "source": [
        "numerical_vars = ['age', 'fare']\n",
        "numerical_stats = df[numerical_vars].describe()\n",
        "\n",
        "# Descriptive statistics for categorical variables\n",
        "categorical_vars = ['survived', 'pclass', 'sex', 'embarked']\n",
        "categorical_stats = []\n",
        "\n",
        "for var in categorical_vars:\n",
        "    value_counts = df[var].value_counts()\n",
        "    var_stats = pd.DataFrame({'Variable': [var], 'Value Counts': [value_counts]})\n",
        "    categorical_stats.append(var_stats)\n",
        "categorical_stats = pd.concat(categorical_stats, ignore_index=True)\n",
        "\n",
        "print(\"Descriptive Statistics for Numerical Variables:\")\n",
        "print(numerical_stats)\n",
        "print(\"\\nDescriptive Statistics for Categorical Variables:\")\n",
        "print(categorical_stats)"
      ],
      "metadata": {
        "colab": {
          "base_uri": "https://localhost:8080/"
        },
        "id": "jX_w7UW77iAg",
        "outputId": "dfd7a338-bbba-4f0b-e77d-7ac492ce467f"
      },
      "execution_count": 8,
      "outputs": [
        {
          "output_type": "stream",
          "name": "stdout",
          "text": [
            "Descriptive Statistics for Numerical Variables:\n",
            "              age        fare\n",
            "count  714.000000  891.000000\n",
            "mean    29.699118   32.204208\n",
            "std     14.526497   49.693429\n",
            "min      0.420000    0.000000\n",
            "25%     20.125000    7.910400\n",
            "50%     28.000000   14.454200\n",
            "75%     38.000000   31.000000\n",
            "max     80.000000  512.329200\n",
            "\n",
            "Descriptive Statistics for Categorical Variables:\n",
            "   Variable                                       Value Counts\n",
            "0  survived     0    549\n",
            "1    342\n",
            "Name: survived, dtype: int64\n",
            "1    pclass  3    491\n",
            "1    216\n",
            "2    184\n",
            "Name: pclass, dtype...\n",
            "2       sex  male      577\n",
            "female    314\n",
            "Name: sex, dtype: ...\n",
            "3  embarked  S    644\n",
            "C    168\n",
            "Q     77\n",
            "Name: embarked, dty...\n"
          ]
        }
      ]
    },
    {
      "cell_type": "markdown",
      "source": [
        "Handle the Missing values."
      ],
      "metadata": {
        "id": "duxL2YhAD7_M"
      }
    },
    {
      "cell_type": "code",
      "source": [
        "print(\"Missing Values Before Handling:\")\n",
        "df.isnull().sum()"
      ],
      "metadata": {
        "colab": {
          "base_uri": "https://localhost:8080/"
        },
        "id": "6kvmVC-B8Trr",
        "outputId": "2b692097-3e64-4413-c4fc-e031ff337ab4"
      },
      "execution_count": 9,
      "outputs": [
        {
          "output_type": "stream",
          "name": "stdout",
          "text": [
            "Missing Values Before Handling:\n"
          ]
        },
        {
          "output_type": "execute_result",
          "data": {
            "text/plain": [
              "survived         0\n",
              "pclass           0\n",
              "sex              0\n",
              "age            177\n",
              "sibsp            0\n",
              "parch            0\n",
              "fare             0\n",
              "embarked         2\n",
              "class            0\n",
              "who              0\n",
              "adult_male       0\n",
              "deck           688\n",
              "embark_town      2\n",
              "alive            0\n",
              "alone            0\n",
              "dtype: int64"
            ]
          },
          "metadata": {},
          "execution_count": 9
        }
      ]
    },
    {
      "cell_type": "code",
      "source": [
        "df['age'].fillna(df['age'].mean(), inplace=True)"
      ],
      "metadata": {
        "id": "E2f7EE0T9G98"
      },
      "execution_count": 10,
      "outputs": []
    },
    {
      "cell_type": "code",
      "source": [
        "df['embarked'].fillna(df['embarked'].mode()[0], inplace=True)\n"
      ],
      "metadata": {
        "id": "t3ZjaOf_9cDi"
      },
      "execution_count": 11,
      "outputs": []
    },
    {
      "cell_type": "code",
      "source": [
        "mode_value = df['embark_town'].mode()[0]\n",
        "df['embark_town'].fillna(mode_value, inplace=True)"
      ],
      "metadata": {
        "id": "f42mcHw39gsz"
      },
      "execution_count": 12,
      "outputs": []
    },
    {
      "cell_type": "code",
      "source": [
        "print(\"Missing Values After Handling:\")\n",
        "df.isnull().sum()"
      ],
      "metadata": {
        "colab": {
          "base_uri": "https://localhost:8080/"
        },
        "id": "4_1aMAZX97j3",
        "outputId": "caa18682-8b7c-431c-e534-20179187caca"
      },
      "execution_count": 13,
      "outputs": [
        {
          "output_type": "stream",
          "name": "stdout",
          "text": [
            "Missing Values After Handling:\n"
          ]
        },
        {
          "output_type": "execute_result",
          "data": {
            "text/plain": [
              "survived         0\n",
              "pclass           0\n",
              "sex              0\n",
              "age              0\n",
              "sibsp            0\n",
              "parch            0\n",
              "fare             0\n",
              "embarked         0\n",
              "class            0\n",
              "who              0\n",
              "adult_male       0\n",
              "deck           688\n",
              "embark_town      0\n",
              "alive            0\n",
              "alone            0\n",
              "dtype: int64"
            ]
          },
          "metadata": {},
          "execution_count": 13
        }
      ]
    },
    {
      "cell_type": "markdown",
      "source": [
        "Find the outliers and replace the outliers"
      ],
      "metadata": {
        "id": "PqooJYV6D-qN"
      }
    },
    {
      "cell_type": "code",
      "source": [
        "Q1 = df['age'].quantile(0.25)\n",
        "Q3 = df['age'].quantile(0.75)\n",
        "IQR = Q3 - Q1\n",
        "lower_bound = Q1 - 1.5 * IQR\n",
        "upper_bound = Q3 + 1.5 * IQR\n",
        "\n",
        "# Identify outliers in the 'Age' column\n",
        "outliers = df[(df['age'] < lower_bound) | (df['age'] > upper_bound)]\n",
        "\n",
        "\n",
        "median_age = df['age'].median()\n",
        "df.loc[(df['age'] < lower_bound) | (df['age'] > upper_bound), 'age'] = median_age\n",
        "\n",
        "\n",
        "print(\"Number of Outliers:\", len(outliers))"
      ],
      "metadata": {
        "colab": {
          "base_uri": "https://localhost:8080/"
        },
        "id": "6pc6_0Pi-nE-",
        "outputId": "1ce274c3-0d3d-4eed-91f1-66a3d2bedf72"
      },
      "execution_count": 14,
      "outputs": [
        {
          "output_type": "stream",
          "name": "stdout",
          "text": [
            "Number of Outliers: 66\n"
          ]
        }
      ]
    },
    {
      "cell_type": "code",
      "source": [
        "Q1 = df['fare'].quantile(0.25)\n",
        "Q3 = df['fare'].quantile(0.75)\n",
        "IQR = Q3 - Q1\n",
        "lower_bound = Q1 - 1.5 * IQR\n",
        "upper_bound = Q3 + 1.5 * IQR\n",
        "\n",
        "# Identify outliers in the 'Fare' column\n",
        "outliers = df[(df['fare'] < lower_bound) | (df['fare'] > upper_bound)]\n",
        "\n",
        "\n",
        "median_age = df['fare'].median()\n",
        "df.loc[(df['fare'] < lower_bound) | (df['fare'] > upper_bound), 'fare'] = median_age\n",
        "\n",
        "\n",
        "print(\"Number of Outliers:\", len(outliers))"
      ],
      "metadata": {
        "colab": {
          "base_uri": "https://localhost:8080/"
        },
        "id": "IVAJp4pnDBMn",
        "outputId": "8287d711-7c45-4ad2-c9e0-82a58c1934e6"
      },
      "execution_count": 26,
      "outputs": [
        {
          "output_type": "stream",
          "name": "stdout",
          "text": [
            "Number of Outliers: 116\n"
          ]
        }
      ]
    },
    {
      "cell_type": "markdown",
      "source": [
        "Check for Categorical columns and perform encoding."
      ],
      "metadata": {
        "id": "o-D6_QqUEJJ9"
      }
    },
    {
      "cell_type": "code",
      "source": [
        "categorical_cols = df.select_dtypes(include=['object']).columns\n",
        "\n",
        "# Perform one-hot encoding for categorical columns\n",
        "df_encoded = pd.get_dummies(df, columns=categorical_cols)\n",
        "df_encoded['adult_male'] = df_encoded['adult_male'].map({True: 1, False: 0})\n",
        "df_encoded['alone'] = df_encoded['alone'].map({True: 1, False: 0})\n",
        "# Print the encoded DataFrame\n",
        "print(df_encoded.head())"
      ],
      "metadata": {
        "colab": {
          "base_uri": "https://localhost:8080/"
        },
        "id": "BzSvHfgE-9A5",
        "outputId": "93262305-fa51-4971-c53d-fc5e0ffcf6ac"
      },
      "execution_count": 16,
      "outputs": [
        {
          "output_type": "stream",
          "name": "stdout",
          "text": [
            "   survived  pclass   age  sibsp  parch     fare  adult_male  alone  \\\n",
            "0         0       3  22.0      1      0   7.2500           1      0   \n",
            "1         1       1  38.0      1      0  71.2833           0      0   \n",
            "2         1       3  26.0      0      0   7.9250           0      1   \n",
            "3         1       1  35.0      1      0  53.1000           0      0   \n",
            "4         0       3  35.0      0      0   8.0500           1      1   \n",
            "\n",
            "   sex_female  sex_male  ...  deck_C  deck_D  deck_E  deck_F  deck_G  \\\n",
            "0           0         1  ...       0       0       0       0       0   \n",
            "1           1         0  ...       1       0       0       0       0   \n",
            "2           1         0  ...       0       0       0       0       0   \n",
            "3           1         0  ...       1       0       0       0       0   \n",
            "4           0         1  ...       0       0       0       0       0   \n",
            "\n",
            "   embark_town_Cherbourg  embark_town_Queenstown  embark_town_Southampton  \\\n",
            "0                      0                       0                        1   \n",
            "1                      1                       0                        0   \n",
            "2                      0                       0                        1   \n",
            "3                      0                       0                        1   \n",
            "4                      0                       0                        1   \n",
            "\n",
            "   alive_no  alive_yes  \n",
            "0         1          0  \n",
            "1         0          1  \n",
            "2         0          1  \n",
            "3         0          1  \n",
            "4         1          0  \n",
            "\n",
            "[5 rows x 31 columns]\n"
          ]
        }
      ]
    },
    {
      "cell_type": "markdown",
      "source": [
        "Split the data into dependent and independent variables."
      ],
      "metadata": {
        "id": "IOnJcDd9EL2D"
      }
    },
    {
      "cell_type": "code",
      "source": [
        "X = df_encoded.drop('survived' , axis = 1)\n",
        "y = df_encoded['survived']"
      ],
      "metadata": {
        "id": "BZ-f2ika_VPN"
      },
      "execution_count": 27,
      "outputs": []
    },
    {
      "cell_type": "markdown",
      "source": [
        "Scale the independent variables"
      ],
      "metadata": {
        "id": "OZW7N85FETP7"
      }
    },
    {
      "cell_type": "code",
      "source": [
        "from sklearn.preprocessing import StandardScaler\n",
        "scaler = StandardScaler()\n",
        "\n",
        "# Fit and transform the features using StandardScaler\n",
        "scaled_features = scaler.fit_transform(X)\n",
        "\n",
        "# Create a DataFrame with the scaled features\n",
        "X = pd.DataFrame(scaled_features, columns=X.columns)\n"
      ],
      "metadata": {
        "id": "EHGlalwS_w3t"
      },
      "execution_count": 20,
      "outputs": []
    },
    {
      "cell_type": "code",
      "source": [
        "X"
      ],
      "metadata": {
        "colab": {
          "base_uri": "https://localhost:8080/",
          "height": 487
        },
        "id": "tWszk8KTCP0I",
        "outputId": "b379ab19-eb2f-42fa-dfeb-09e70578b436"
      },
      "execution_count": 21,
      "outputs": [
        {
          "output_type": "execute_result",
          "data": {
            "text/plain": [
              "       pclass       age     sibsp     parch      fare  adult_male     alone  \\\n",
              "0    0.827377 -0.708584  0.432793 -0.473674 -0.502445    0.811922 -1.231645   \n",
              "1   -1.566107  0.924948  0.432793 -0.473674  0.786845   -1.231645 -1.231645   \n",
              "2    0.827377 -0.300201 -0.474545 -0.473674 -0.488854   -1.231645  0.811922   \n",
              "3   -1.566107  0.618661  0.432793 -0.473674  0.420730   -1.231645 -1.231645   \n",
              "4    0.827377  0.618661 -0.474545 -0.473674 -0.486337    0.811922  0.811922   \n",
              "..        ...       ...       ...       ...       ...         ...       ...   \n",
              "886 -0.369365 -0.198105 -0.474545 -0.473674 -0.386671    0.811922  0.811922   \n",
              "887 -1.566107 -1.014871 -0.474545 -0.473674 -0.044381   -1.231645  0.811922   \n",
              "888  0.827377  0.077463  0.432793  2.008933 -0.176263   -1.231645 -1.231645   \n",
              "889 -1.566107 -0.300201 -0.474545 -0.473674 -0.044381    0.811922  0.811922   \n",
              "890  0.827377  0.312373 -0.474545 -0.473674 -0.492378    0.811922  0.811922   \n",
              "\n",
              "     sex_female  sex_male  embarked_C  ...    deck_C    deck_D    deck_E  \\\n",
              "0     -0.737695  0.737695   -0.482043  ... -0.266296 -0.196116 -0.193009   \n",
              "1      1.355574 -1.355574    2.074505  ...  3.755222 -0.196116 -0.193009   \n",
              "2      1.355574 -1.355574   -0.482043  ... -0.266296 -0.196116 -0.193009   \n",
              "3      1.355574 -1.355574   -0.482043  ...  3.755222 -0.196116 -0.193009   \n",
              "4     -0.737695  0.737695   -0.482043  ... -0.266296 -0.196116 -0.193009   \n",
              "..          ...       ...         ...  ...       ...       ...       ...   \n",
              "886   -0.737695  0.737695   -0.482043  ... -0.266296 -0.196116 -0.193009   \n",
              "887    1.355574 -1.355574   -0.482043  ... -0.266296 -0.196116 -0.193009   \n",
              "888    1.355574 -1.355574   -0.482043  ... -0.266296 -0.196116 -0.193009   \n",
              "889   -0.737695  0.737695    2.074505  ...  3.755222 -0.196116 -0.193009   \n",
              "890   -0.737695  0.737695   -0.482043  ... -0.266296 -0.196116 -0.193009   \n",
              "\n",
              "       deck_F    deck_G  embark_town_Cherbourg  embark_town_Queenstown  \\\n",
              "0   -0.121681 -0.067153              -0.482043               -0.307562   \n",
              "1   -0.121681 -0.067153               2.074505               -0.307562   \n",
              "2   -0.121681 -0.067153              -0.482043               -0.307562   \n",
              "3   -0.121681 -0.067153              -0.482043               -0.307562   \n",
              "4   -0.121681 -0.067153              -0.482043               -0.307562   \n",
              "..        ...       ...                    ...                     ...   \n",
              "886 -0.121681 -0.067153              -0.482043               -0.307562   \n",
              "887 -0.121681 -0.067153              -0.482043               -0.307562   \n",
              "888 -0.121681 -0.067153              -0.482043               -0.307562   \n",
              "889 -0.121681 -0.067153               2.074505               -0.307562   \n",
              "890 -0.121681 -0.067153              -0.482043                3.251373   \n",
              "\n",
              "     embark_town_Southampton  alive_no  alive_yes  \n",
              "0                   0.615838  0.789272  -0.789272  \n",
              "1                  -1.623803 -1.266990   1.266990  \n",
              "2                   0.615838 -1.266990   1.266990  \n",
              "3                   0.615838 -1.266990   1.266990  \n",
              "4                   0.615838  0.789272  -0.789272  \n",
              "..                       ...       ...        ...  \n",
              "886                 0.615838  0.789272  -0.789272  \n",
              "887                 0.615838 -1.266990   1.266990  \n",
              "888                 0.615838  0.789272  -0.789272  \n",
              "889                -1.623803 -1.266990   1.266990  \n",
              "890                -1.623803  0.789272  -0.789272  \n",
              "\n",
              "[891 rows x 30 columns]"
            ],
            "text/html": [
              "\n",
              "  <div id=\"df-5e6222af-ab8f-414f-a04d-6dfdc69ffc61\">\n",
              "    <div class=\"colab-df-container\">\n",
              "      <div>\n",
              "<style scoped>\n",
              "    .dataframe tbody tr th:only-of-type {\n",
              "        vertical-align: middle;\n",
              "    }\n",
              "\n",
              "    .dataframe tbody tr th {\n",
              "        vertical-align: top;\n",
              "    }\n",
              "\n",
              "    .dataframe thead th {\n",
              "        text-align: right;\n",
              "    }\n",
              "</style>\n",
              "<table border=\"1\" class=\"dataframe\">\n",
              "  <thead>\n",
              "    <tr style=\"text-align: right;\">\n",
              "      <th></th>\n",
              "      <th>pclass</th>\n",
              "      <th>age</th>\n",
              "      <th>sibsp</th>\n",
              "      <th>parch</th>\n",
              "      <th>fare</th>\n",
              "      <th>adult_male</th>\n",
              "      <th>alone</th>\n",
              "      <th>sex_female</th>\n",
              "      <th>sex_male</th>\n",
              "      <th>embarked_C</th>\n",
              "      <th>...</th>\n",
              "      <th>deck_C</th>\n",
              "      <th>deck_D</th>\n",
              "      <th>deck_E</th>\n",
              "      <th>deck_F</th>\n",
              "      <th>deck_G</th>\n",
              "      <th>embark_town_Cherbourg</th>\n",
              "      <th>embark_town_Queenstown</th>\n",
              "      <th>embark_town_Southampton</th>\n",
              "      <th>alive_no</th>\n",
              "      <th>alive_yes</th>\n",
              "    </tr>\n",
              "  </thead>\n",
              "  <tbody>\n",
              "    <tr>\n",
              "      <th>0</th>\n",
              "      <td>0.827377</td>\n",
              "      <td>-0.708584</td>\n",
              "      <td>0.432793</td>\n",
              "      <td>-0.473674</td>\n",
              "      <td>-0.502445</td>\n",
              "      <td>0.811922</td>\n",
              "      <td>-1.231645</td>\n",
              "      <td>-0.737695</td>\n",
              "      <td>0.737695</td>\n",
              "      <td>-0.482043</td>\n",
              "      <td>...</td>\n",
              "      <td>-0.266296</td>\n",
              "      <td>-0.196116</td>\n",
              "      <td>-0.193009</td>\n",
              "      <td>-0.121681</td>\n",
              "      <td>-0.067153</td>\n",
              "      <td>-0.482043</td>\n",
              "      <td>-0.307562</td>\n",
              "      <td>0.615838</td>\n",
              "      <td>0.789272</td>\n",
              "      <td>-0.789272</td>\n",
              "    </tr>\n",
              "    <tr>\n",
              "      <th>1</th>\n",
              "      <td>-1.566107</td>\n",
              "      <td>0.924948</td>\n",
              "      <td>0.432793</td>\n",
              "      <td>-0.473674</td>\n",
              "      <td>0.786845</td>\n",
              "      <td>-1.231645</td>\n",
              "      <td>-1.231645</td>\n",
              "      <td>1.355574</td>\n",
              "      <td>-1.355574</td>\n",
              "      <td>2.074505</td>\n",
              "      <td>...</td>\n",
              "      <td>3.755222</td>\n",
              "      <td>-0.196116</td>\n",
              "      <td>-0.193009</td>\n",
              "      <td>-0.121681</td>\n",
              "      <td>-0.067153</td>\n",
              "      <td>2.074505</td>\n",
              "      <td>-0.307562</td>\n",
              "      <td>-1.623803</td>\n",
              "      <td>-1.266990</td>\n",
              "      <td>1.266990</td>\n",
              "    </tr>\n",
              "    <tr>\n",
              "      <th>2</th>\n",
              "      <td>0.827377</td>\n",
              "      <td>-0.300201</td>\n",
              "      <td>-0.474545</td>\n",
              "      <td>-0.473674</td>\n",
              "      <td>-0.488854</td>\n",
              "      <td>-1.231645</td>\n",
              "      <td>0.811922</td>\n",
              "      <td>1.355574</td>\n",
              "      <td>-1.355574</td>\n",
              "      <td>-0.482043</td>\n",
              "      <td>...</td>\n",
              "      <td>-0.266296</td>\n",
              "      <td>-0.196116</td>\n",
              "      <td>-0.193009</td>\n",
              "      <td>-0.121681</td>\n",
              "      <td>-0.067153</td>\n",
              "      <td>-0.482043</td>\n",
              "      <td>-0.307562</td>\n",
              "      <td>0.615838</td>\n",
              "      <td>-1.266990</td>\n",
              "      <td>1.266990</td>\n",
              "    </tr>\n",
              "    <tr>\n",
              "      <th>3</th>\n",
              "      <td>-1.566107</td>\n",
              "      <td>0.618661</td>\n",
              "      <td>0.432793</td>\n",
              "      <td>-0.473674</td>\n",
              "      <td>0.420730</td>\n",
              "      <td>-1.231645</td>\n",
              "      <td>-1.231645</td>\n",
              "      <td>1.355574</td>\n",
              "      <td>-1.355574</td>\n",
              "      <td>-0.482043</td>\n",
              "      <td>...</td>\n",
              "      <td>3.755222</td>\n",
              "      <td>-0.196116</td>\n",
              "      <td>-0.193009</td>\n",
              "      <td>-0.121681</td>\n",
              "      <td>-0.067153</td>\n",
              "      <td>-0.482043</td>\n",
              "      <td>-0.307562</td>\n",
              "      <td>0.615838</td>\n",
              "      <td>-1.266990</td>\n",
              "      <td>1.266990</td>\n",
              "    </tr>\n",
              "    <tr>\n",
              "      <th>4</th>\n",
              "      <td>0.827377</td>\n",
              "      <td>0.618661</td>\n",
              "      <td>-0.474545</td>\n",
              "      <td>-0.473674</td>\n",
              "      <td>-0.486337</td>\n",
              "      <td>0.811922</td>\n",
              "      <td>0.811922</td>\n",
              "      <td>-0.737695</td>\n",
              "      <td>0.737695</td>\n",
              "      <td>-0.482043</td>\n",
              "      <td>...</td>\n",
              "      <td>-0.266296</td>\n",
              "      <td>-0.196116</td>\n",
              "      <td>-0.193009</td>\n",
              "      <td>-0.121681</td>\n",
              "      <td>-0.067153</td>\n",
              "      <td>-0.482043</td>\n",
              "      <td>-0.307562</td>\n",
              "      <td>0.615838</td>\n",
              "      <td>0.789272</td>\n",
              "      <td>-0.789272</td>\n",
              "    </tr>\n",
              "    <tr>\n",
              "      <th>...</th>\n",
              "      <td>...</td>\n",
              "      <td>...</td>\n",
              "      <td>...</td>\n",
              "      <td>...</td>\n",
              "      <td>...</td>\n",
              "      <td>...</td>\n",
              "      <td>...</td>\n",
              "      <td>...</td>\n",
              "      <td>...</td>\n",
              "      <td>...</td>\n",
              "      <td>...</td>\n",
              "      <td>...</td>\n",
              "      <td>...</td>\n",
              "      <td>...</td>\n",
              "      <td>...</td>\n",
              "      <td>...</td>\n",
              "      <td>...</td>\n",
              "      <td>...</td>\n",
              "      <td>...</td>\n",
              "      <td>...</td>\n",
              "      <td>...</td>\n",
              "    </tr>\n",
              "    <tr>\n",
              "      <th>886</th>\n",
              "      <td>-0.369365</td>\n",
              "      <td>-0.198105</td>\n",
              "      <td>-0.474545</td>\n",
              "      <td>-0.473674</td>\n",
              "      <td>-0.386671</td>\n",
              "      <td>0.811922</td>\n",
              "      <td>0.811922</td>\n",
              "      <td>-0.737695</td>\n",
              "      <td>0.737695</td>\n",
              "      <td>-0.482043</td>\n",
              "      <td>...</td>\n",
              "      <td>-0.266296</td>\n",
              "      <td>-0.196116</td>\n",
              "      <td>-0.193009</td>\n",
              "      <td>-0.121681</td>\n",
              "      <td>-0.067153</td>\n",
              "      <td>-0.482043</td>\n",
              "      <td>-0.307562</td>\n",
              "      <td>0.615838</td>\n",
              "      <td>0.789272</td>\n",
              "      <td>-0.789272</td>\n",
              "    </tr>\n",
              "    <tr>\n",
              "      <th>887</th>\n",
              "      <td>-1.566107</td>\n",
              "      <td>-1.014871</td>\n",
              "      <td>-0.474545</td>\n",
              "      <td>-0.473674</td>\n",
              "      <td>-0.044381</td>\n",
              "      <td>-1.231645</td>\n",
              "      <td>0.811922</td>\n",
              "      <td>1.355574</td>\n",
              "      <td>-1.355574</td>\n",
              "      <td>-0.482043</td>\n",
              "      <td>...</td>\n",
              "      <td>-0.266296</td>\n",
              "      <td>-0.196116</td>\n",
              "      <td>-0.193009</td>\n",
              "      <td>-0.121681</td>\n",
              "      <td>-0.067153</td>\n",
              "      <td>-0.482043</td>\n",
              "      <td>-0.307562</td>\n",
              "      <td>0.615838</td>\n",
              "      <td>-1.266990</td>\n",
              "      <td>1.266990</td>\n",
              "    </tr>\n",
              "    <tr>\n",
              "      <th>888</th>\n",
              "      <td>0.827377</td>\n",
              "      <td>0.077463</td>\n",
              "      <td>0.432793</td>\n",
              "      <td>2.008933</td>\n",
              "      <td>-0.176263</td>\n",
              "      <td>-1.231645</td>\n",
              "      <td>-1.231645</td>\n",
              "      <td>1.355574</td>\n",
              "      <td>-1.355574</td>\n",
              "      <td>-0.482043</td>\n",
              "      <td>...</td>\n",
              "      <td>-0.266296</td>\n",
              "      <td>-0.196116</td>\n",
              "      <td>-0.193009</td>\n",
              "      <td>-0.121681</td>\n",
              "      <td>-0.067153</td>\n",
              "      <td>-0.482043</td>\n",
              "      <td>-0.307562</td>\n",
              "      <td>0.615838</td>\n",
              "      <td>0.789272</td>\n",
              "      <td>-0.789272</td>\n",
              "    </tr>\n",
              "    <tr>\n",
              "      <th>889</th>\n",
              "      <td>-1.566107</td>\n",
              "      <td>-0.300201</td>\n",
              "      <td>-0.474545</td>\n",
              "      <td>-0.473674</td>\n",
              "      <td>-0.044381</td>\n",
              "      <td>0.811922</td>\n",
              "      <td>0.811922</td>\n",
              "      <td>-0.737695</td>\n",
              "      <td>0.737695</td>\n",
              "      <td>2.074505</td>\n",
              "      <td>...</td>\n",
              "      <td>3.755222</td>\n",
              "      <td>-0.196116</td>\n",
              "      <td>-0.193009</td>\n",
              "      <td>-0.121681</td>\n",
              "      <td>-0.067153</td>\n",
              "      <td>2.074505</td>\n",
              "      <td>-0.307562</td>\n",
              "      <td>-1.623803</td>\n",
              "      <td>-1.266990</td>\n",
              "      <td>1.266990</td>\n",
              "    </tr>\n",
              "    <tr>\n",
              "      <th>890</th>\n",
              "      <td>0.827377</td>\n",
              "      <td>0.312373</td>\n",
              "      <td>-0.474545</td>\n",
              "      <td>-0.473674</td>\n",
              "      <td>-0.492378</td>\n",
              "      <td>0.811922</td>\n",
              "      <td>0.811922</td>\n",
              "      <td>-0.737695</td>\n",
              "      <td>0.737695</td>\n",
              "      <td>-0.482043</td>\n",
              "      <td>...</td>\n",
              "      <td>-0.266296</td>\n",
              "      <td>-0.196116</td>\n",
              "      <td>-0.193009</td>\n",
              "      <td>-0.121681</td>\n",
              "      <td>-0.067153</td>\n",
              "      <td>-0.482043</td>\n",
              "      <td>3.251373</td>\n",
              "      <td>-1.623803</td>\n",
              "      <td>0.789272</td>\n",
              "      <td>-0.789272</td>\n",
              "    </tr>\n",
              "  </tbody>\n",
              "</table>\n",
              "<p>891 rows × 30 columns</p>\n",
              "</div>\n",
              "      <button class=\"colab-df-convert\" onclick=\"convertToInteractive('df-5e6222af-ab8f-414f-a04d-6dfdc69ffc61')\"\n",
              "              title=\"Convert this dataframe to an interactive table.\"\n",
              "              style=\"display:none;\">\n",
              "        \n",
              "  <svg xmlns=\"http://www.w3.org/2000/svg\" height=\"24px\"viewBox=\"0 0 24 24\"\n",
              "       width=\"24px\">\n",
              "    <path d=\"M0 0h24v24H0V0z\" fill=\"none\"/>\n",
              "    <path d=\"M18.56 5.44l.94 2.06.94-2.06 2.06-.94-2.06-.94-.94-2.06-.94 2.06-2.06.94zm-11 1L8.5 8.5l.94-2.06 2.06-.94-2.06-.94L8.5 2.5l-.94 2.06-2.06.94zm10 10l.94 2.06.94-2.06 2.06-.94-2.06-.94-.94-2.06-.94 2.06-2.06.94z\"/><path d=\"M17.41 7.96l-1.37-1.37c-.4-.4-.92-.59-1.43-.59-.52 0-1.04.2-1.43.59L10.3 9.45l-7.72 7.72c-.78.78-.78 2.05 0 2.83L4 21.41c.39.39.9.59 1.41.59.51 0 1.02-.2 1.41-.59l7.78-7.78 2.81-2.81c.8-.78.8-2.07 0-2.86zM5.41 20L4 18.59l7.72-7.72 1.47 1.35L5.41 20z\"/>\n",
              "  </svg>\n",
              "      </button>\n",
              "      \n",
              "  <style>\n",
              "    .colab-df-container {\n",
              "      display:flex;\n",
              "      flex-wrap:wrap;\n",
              "      gap: 12px;\n",
              "    }\n",
              "\n",
              "    .colab-df-convert {\n",
              "      background-color: #E8F0FE;\n",
              "      border: none;\n",
              "      border-radius: 50%;\n",
              "      cursor: pointer;\n",
              "      display: none;\n",
              "      fill: #1967D2;\n",
              "      height: 32px;\n",
              "      padding: 0 0 0 0;\n",
              "      width: 32px;\n",
              "    }\n",
              "\n",
              "    .colab-df-convert:hover {\n",
              "      background-color: #E2EBFA;\n",
              "      box-shadow: 0px 1px 2px rgba(60, 64, 67, 0.3), 0px 1px 3px 1px rgba(60, 64, 67, 0.15);\n",
              "      fill: #174EA6;\n",
              "    }\n",
              "\n",
              "    [theme=dark] .colab-df-convert {\n",
              "      background-color: #3B4455;\n",
              "      fill: #D2E3FC;\n",
              "    }\n",
              "\n",
              "    [theme=dark] .colab-df-convert:hover {\n",
              "      background-color: #434B5C;\n",
              "      box-shadow: 0px 1px 3px 1px rgba(0, 0, 0, 0.15);\n",
              "      filter: drop-shadow(0px 1px 2px rgba(0, 0, 0, 0.3));\n",
              "      fill: #FFFFFF;\n",
              "    }\n",
              "  </style>\n",
              "\n",
              "      <script>\n",
              "        const buttonEl =\n",
              "          document.querySelector('#df-5e6222af-ab8f-414f-a04d-6dfdc69ffc61 button.colab-df-convert');\n",
              "        buttonEl.style.display =\n",
              "          google.colab.kernel.accessAllowed ? 'block' : 'none';\n",
              "\n",
              "        async function convertToInteractive(key) {\n",
              "          const element = document.querySelector('#df-5e6222af-ab8f-414f-a04d-6dfdc69ffc61');\n",
              "          const dataTable =\n",
              "            await google.colab.kernel.invokeFunction('convertToInteractive',\n",
              "                                                     [key], {});\n",
              "          if (!dataTable) return;\n",
              "\n",
              "          const docLinkHtml = 'Like what you see? Visit the ' +\n",
              "            '<a target=\"_blank\" href=https://colab.research.google.com/notebooks/data_table.ipynb>data table notebook</a>'\n",
              "            + ' to learn more about interactive tables.';\n",
              "          element.innerHTML = '';\n",
              "          dataTable['output_type'] = 'display_data';\n",
              "          await google.colab.output.renderOutput(dataTable, element);\n",
              "          const docLink = document.createElement('div');\n",
              "          docLink.innerHTML = docLinkHtml;\n",
              "          element.appendChild(docLink);\n",
              "        }\n",
              "      </script>\n",
              "    </div>\n",
              "  </div>\n",
              "  "
            ]
          },
          "metadata": {},
          "execution_count": 21
        }
      ]
    },
    {
      "cell_type": "markdown",
      "source": [
        "Split the data into training and testing"
      ],
      "metadata": {
        "id": "oQ9zQCFFEWMT"
      }
    },
    {
      "cell_type": "code",
      "source": [
        "from sklearn.model_selection import train_test_split\n",
        "X_train ,  X_test ,y_train , y_test = train_test_split(X,y,train_size = 0.7 , random_state= 41)"
      ],
      "metadata": {
        "id": "4gvilIlKCQJj"
      },
      "execution_count": 24,
      "outputs": []
    },
    {
      "cell_type": "code",
      "source": [
        "print(\"X_train shape:\", X_train.shape)\n",
        "print(\"X_test shape:\", X_test.shape)\n",
        "print(\"y_train shape:\", y_train.shape)\n",
        "print(\"y_test shape:\", y_test.shape)"
      ],
      "metadata": {
        "colab": {
          "base_uri": "https://localhost:8080/"
        },
        "id": "lZhRVQtHChrF",
        "outputId": "6d0eff55-659b-48c5-acf3-5814103b6231"
      },
      "execution_count": 25,
      "outputs": [
        {
          "output_type": "stream",
          "name": "stdout",
          "text": [
            "X_train shape: (623, 30)\n",
            "X_test shape: (268, 30)\n",
            "y_train shape: (623,)\n",
            "y_test shape: (268,)\n"
          ]
        }
      ]
    }
  ]
}